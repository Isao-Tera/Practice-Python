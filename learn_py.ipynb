{
 "metadata": {
  "language_info": {
   "codemirror_mode": {
    "name": "ipython",
    "version": 3
   },
   "file_extension": ".py",
   "mimetype": "text/x-python",
   "name": "python",
   "nbconvert_exporter": "python",
   "pygments_lexer": "ipython3",
   "version": "3.8.3"
  },
  "orig_nbformat": 2,
  "kernelspec": {
   "name": "python383jvsc74a57bd0aa6b1339c8bf39b9f7807061c37a9e7bc6676fcde7c50e1c5d6a5dc37bcc73d8",
   "display_name": "Python 3.8.3 64-bit ('base': conda)"
  }
 },
 "nbformat": 4,
 "nbformat_minor": 2,
 "cells": [
  {
   "source": [
    "# List complihension"
   ],
   "cell_type": "markdown",
   "metadata": {}
  },
  {
   "source": [
    "Let's learn about list comprehensions! \n",
    "You are given three integers x, y and z representing the dimensions of a cuboid along with an integer. \n",
    "Print a list of all possible coordinates given by (i, j, k) on a 3D grid where the sum of (i+j+k) is not equal to (n) . Here, . Please use list comprehensions rather than multiple loops, as a learning exercise."
   ],
   "cell_type": "markdown",
   "metadata": {}
  },
  {
   "cell_type": "code",
   "execution_count": 36,
   "metadata": {},
   "outputs": [],
   "source": [
    "# sample data\n",
    "x = 2\n",
    "y = 2\n",
    "z = 2\n",
    "n = 2"
   ]
  },
  {
   "cell_type": "code",
   "execution_count": 23,
   "metadata": {},
   "outputs": [],
   "source": [
    "# Loop を使用した例　注意；i+j+kがnと一致する場合、リストから除く必要がある\n",
    "test = []\n",
    "for i in range(x+1):\n",
    "    for j in range(y+1):\n",
    "        for k in range(z+1):\n",
    "            test.append([i,j,k])"
   ]
  },
  {
   "cell_type": "code",
   "execution_count": 24,
   "metadata": {},
   "outputs": [
    {
     "output_type": "execute_result",
     "data": {
      "text/plain": [
       "[[0, 0, 0],\n",
       " [0, 0, 1],\n",
       " [0, 1, 0],\n",
       " [0, 1, 1],\n",
       " [1, 0, 0],\n",
       " [1, 0, 1],\n",
       " [1, 1, 0],\n",
       " [1, 1, 1]]"
      ]
     },
     "metadata": {},
     "execution_count": 24
    }
   ],
   "source": [
    "test"
   ]
  },
  {
   "cell_type": "code",
   "execution_count": 42,
   "metadata": {},
   "outputs": [],
   "source": [
    "# List内包表記を使用する！\n",
    "result = [[i, j, k] for i in range(x+1) for j in range(y+1) for k in range(z+1) if sum([i, j, k]) != n]"
   ]
  },
  {
   "cell_type": "code",
   "execution_count": 43,
   "metadata": {},
   "outputs": [
    {
     "output_type": "stream",
     "name": "stdout",
     "text": [
      "[[0, 0, 0], [0, 0, 1], [0, 1, 0], [0, 1, 2], [0, 2, 1], [0, 2, 2], [1, 0, 0], [1, 0, 2], [1, 1, 1], [1, 1, 2], [1, 2, 0], [1, 2, 1], [1, 2, 2], [2, 0, 1], [2, 0, 2], [2, 1, 0], [2, 1, 1], [2, 1, 2], [2, 2, 0], [2, 2, 1], [2, 2, 2]]\n"
     ]
    }
   ],
   "source": [
    "print(result)"
   ]
  },
  {
   "source": [
    "# Find Runner-up score!"
   ],
   "cell_type": "markdown",
   "metadata": {}
  },
  {
   "source": [
    "Given the participants' score sheet for your University Sports Day, you are required to find the runner-up score. You are given  scores. Store them in a list and find the score of the runner-up"
   ],
   "cell_type": "markdown",
   "metadata": {}
  },
  {
   "source": [
    "The first line contains n. The second line contains an array A[] of  integers each separated by a space."
   ],
   "cell_type": "markdown",
   "metadata": {}
  },
  {
   "source": [
    "2 <= n <= 10\n",
    "\n",
    "-100 <= A'[i] <= 100"
   ],
   "cell_type": "markdown",
   "metadata": {}
  },
  {
   "cell_type": "code",
   "execution_count": 29,
   "metadata": {},
   "outputs": [
    {
     "output_type": "stream",
     "name": "stdout",
     "text": [
      "6\n"
     ]
    }
   ],
   "source": [
    "# Constrains\n",
    "n = int(input())\n",
    "arr = map(int, input().split())\n",
    "\n",
    "# Convert an array to a list\n",
    "given_list = []\n",
    "for i in arr:\n",
    "    given_list.append(i)\n",
    "    \n",
    "list_max = max(given_list)\n",
    "given_set = set(given_list)\n",
    "given_set.remove(list_max)\n",
    "print(max(given_set))"
   ]
  },
  {
   "source": [
    "Practice! You need to find \"5\""
   ],
   "cell_type": "markdown",
   "metadata": {}
  },
  {
   "cell_type": "code",
   "execution_count": 18,
   "metadata": {},
   "outputs": [],
   "source": [
    "# Input \n",
    "n = [2, 3, 6, 6, 5]"
   ]
  },
  {
   "cell_type": "code",
   "execution_count": 19,
   "metadata": {},
   "outputs": [],
   "source": [
    "n_max = max(n)"
   ]
  },
  {
   "cell_type": "code",
   "execution_count": 24,
   "metadata": {},
   "outputs": [
    {
     "output_type": "stream",
     "name": "stdout",
     "text": [
      "{2, 3, 5, 6}\n"
     ]
    }
   ],
   "source": [
    "# リストから最大値をすべて削除したいので、重複のないセットを作成する\n",
    "n_set = set(n)\n",
    "print(n_set)"
   ]
  },
  {
   "cell_type": "code",
   "execution_count": 21,
   "metadata": {},
   "outputs": [],
   "source": [
    "n_set.remove(n_max)"
   ]
  },
  {
   "cell_type": "code",
   "execution_count": 22,
   "metadata": {},
   "outputs": [
    {
     "output_type": "execute_result",
     "data": {
      "text/plain": [
       "{2, 3, 5}"
      ]
     },
     "metadata": {},
     "execution_count": 22
    }
   ],
   "source": [
    "n_set"
   ]
  },
  {
   "cell_type": "code",
   "execution_count": 23,
   "metadata": {},
   "outputs": [
    {
     "output_type": "execute_result",
     "data": {
      "text/plain": [
       "5"
      ]
     },
     "metadata": {},
     "execution_count": 23
    }
   ],
   "source": [
    "max(n_set)"
   ]
  },
  {
   "cell_type": "code",
   "execution_count": 25,
   "metadata": {},
   "outputs": [],
   "source": [
    "arr = map(int, input().split())"
   ]
  },
  {
   "cell_type": "code",
   "execution_count": 26,
   "metadata": {},
   "outputs": [
    {
     "output_type": "execute_result",
     "data": {
      "text/plain": [
       "<map at 0x259b90a9a30>"
      ]
     },
     "metadata": {},
     "execution_count": 26
    }
   ],
   "source": [
    "arr"
   ]
  },
  {
   "cell_type": "code",
   "execution_count": 27,
   "metadata": {},
   "outputs": [
    {
     "output_type": "stream",
     "name": "stdout",
     "text": [
      "<map object at 0x00000259B90A9A30>\n"
     ]
    }
   ],
   "source": [
    "print(arr)"
   ]
  },
  {
   "cell_type": "code",
   "execution_count": 28,
   "metadata": {},
   "outputs": [
    {
     "output_type": "stream",
     "name": "stdout",
     "text": [
      "3\n"
     ]
    }
   ],
   "source": [
    "for i in arr:\n",
    "    print(i)"
   ]
  },
  {
   "source": [
    "# Nested List"
   ],
   "cell_type": "markdown",
   "metadata": {}
  },
  {
   "source": [
    "Given the names and grades for each student in a class of N students, store them in a nested list and print the name(s) of any student(s) having the second lowest grade.\n",
    "\n",
    "Note: If there are multiple students with the second lowest grade, order their names alphabetically and print each name on a new line."
   ],
   "cell_type": "markdown",
   "metadata": {}
  },
  {
   "source": [
    "The first line contains an integer,N, the number of students.\n",
    "\n",
    "The  subsequent lines describe each student over  lines.\n",
    "\n",
    "- The first line contains a student's name.\n",
    "- The second line contains their grade."
   ],
   "cell_type": "markdown",
   "metadata": {}
  },
  {
   "cell_type": "code",
   "execution_count": 43,
   "metadata": {},
   "outputs": [],
   "source": [
    "# Confirm given constrains\n",
    "students_score = []\n",
    "scores = set()\n",
    "\n",
    "for _ in range(int(input())):\n",
    "    name = input()\n",
    "    score = float(input())\n",
    "    students_score.append([name, score])\n",
    "    scores.add(score)"
   ]
  },
  {
   "cell_type": "code",
   "execution_count": 44,
   "metadata": {},
   "outputs": [
    {
     "output_type": "execute_result",
     "data": {
      "text/plain": [
       "[['a', 1.0], ['b', 3.0]]"
      ]
     },
     "metadata": {},
     "execution_count": 44
    }
   ],
   "source": [
    "students_score"
   ]
  },
  {
   "cell_type": "code",
   "execution_count": 46,
   "metadata": {},
   "outputs": [
    {
     "output_type": "stream",
     "name": "stdout",
     "text": [
      "{1.0, 3.0}\n"
     ]
    }
   ],
   "source": [
    "print(scores)"
   ]
  },
  {
   "cell_type": "code",
   "execution_count": 49,
   "metadata": {},
   "outputs": [
    {
     "output_type": "error",
     "ename": "TypeError",
     "evalue": "'set' object is not subscriptable",
     "traceback": [
      "\u001b[1;31m---------------------------------------------------------------------------\u001b[0m",
      "\u001b[1;31mTypeError\u001b[0m                                 Traceback (most recent call last)",
      "\u001b[1;32m<ipython-input-49-293f1178eed3>\u001b[0m in \u001b[0;36m<module>\u001b[1;34m\u001b[0m\n\u001b[0;32m      1\u001b[0m \u001b[1;31m# setはインデックスで指定できない\u001b[0m\u001b[1;33m\u001b[0m\u001b[1;33m\u001b[0m\u001b[1;33m\u001b[0m\u001b[0m\n\u001b[1;32m----> 2\u001b[1;33m \u001b[0mscores\u001b[0m\u001b[1;33m[\u001b[0m\u001b[1;36m1\u001b[0m\u001b[1;33m]\u001b[0m\u001b[1;33m\u001b[0m\u001b[1;33m\u001b[0m\u001b[0m\n\u001b[0m",
      "\u001b[1;31mTypeError\u001b[0m: 'set' object is not subscriptable"
     ]
    }
   ],
   "source": [
    "# setはインデックスで指定できない\n",
    "scores[1]"
   ]
  },
  {
   "cell_type": "code",
   "execution_count": 48,
   "metadata": {},
   "outputs": [
    {
     "output_type": "execute_result",
     "data": {
      "text/plain": [
       "3.0"
      ]
     },
     "metadata": {},
     "execution_count": 48
    }
   ],
   "source": [
    "# the second lowest\n",
    "sorted(scores)[1]"
   ]
  },
  {
   "cell_type": "code",
   "execution_count": 37,
   "metadata": {},
   "outputs": [],
   "source": [
    "# test case\n",
    "# the output; 1st line; Berry, 2nd line; Harry\n",
    "students = [['Harry', 37.21], ['Berry', 37.21], ['Tina', 37.2], ['Akriti', 41], ['Harsh', 39]]"
   ]
  },
  {
   "cell_type": "code",
   "execution_count": 40,
   "metadata": {},
   "outputs": [
    {
     "output_type": "execute_result",
     "data": {
      "text/plain": [
       "[['Akriti', 41],\n",
       " ['Berry', 37.21],\n",
       " ['Harry', 37.21],\n",
       " ['Harsh', 39],\n",
       " ['Tina', 37.2]]"
      ]
     },
     "metadata": {},
     "execution_count": 40
    }
   ],
   "source": [
    "# confirm the result that are sorted \n",
    "sorted(students)"
   ]
  },
  {
   "cell_type": "code",
   "execution_count": 39,
   "metadata": {},
   "outputs": [
    {
     "output_type": "stream",
     "name": "stdout",
     "text": [
      "Harry\n37.21\nBerry\n37.21\nTina\n37.2\nAkriti\n41\nHarsh\n39\n"
     ]
    }
   ],
   "source": [
    "# 入れ子のリストに格納されている値を1つずつ出力する\n",
    "for n, s in students:\n",
    "    print(n)\n",
    "    print(s)"
   ]
  },
  {
   "cell_type": "code",
   "execution_count": 50,
   "metadata": {},
   "outputs": [],
   "source": [
    "sec_low = 37.21"
   ]
  },
  {
   "cell_type": "code",
   "execution_count": 60,
   "metadata": {},
   "outputs": [
    {
     "output_type": "execute_result",
     "data": {
      "text/plain": [
       "['Harry', 'Berry', 'Tina', 'Akriti', 'Harsh']"
      ]
     },
     "metadata": {},
     "execution_count": 60
    }
   ],
   "source": [
    "# Store only names in a list\n",
    "names = [na for (na, so) in students ]\n",
    "names"
   ]
  },
  {
   "cell_type": "code",
   "execution_count": 63,
   "metadata": {},
   "outputs": [
    {
     "output_type": "stream",
     "name": "stdout",
     "text": [
      "Berry\nHarry\n"
     ]
    }
   ],
   "source": [
    "# 2番目に小さい値の名前のみリストに格納する\n",
    "sec_low_names = [na for (na, so) in students if so == sec_low]\n",
    "\n",
    "for i in sorted(sec_low_names):\n",
    "    print(i)"
   ]
  },
  {
   "cell_type": "code",
   "execution_count": null,
   "metadata": {},
   "outputs": [],
   "source": [
    "# Solution\n",
    "students_score = []\n",
    "scores = set()\n",
    "    \n",
    "# Made [name, score] and {score}\n",
    "for _ in range(int(input())):\n",
    "    name = input()\n",
    "    score = float(input())\n",
    "        \n",
    "    students_score.append([name, score])\n",
    "    scores.add(score)\n",
    "    \n",
    "# Assign the second lowest sore\n",
    "second_low_score = sorted(scores)[1]\n",
    "    \n",
    "# Assing the names that have the second lowest score\n",
    "second_low_names = sorted([name for (name, score) in students_score if score == second_low_score])\n",
    "    \n",
    "for n in second_low_names:\n",
    "    print(n)"
   ]
  },
  {
   "source": [
    "# Dictionary"
   ],
   "cell_type": "markdown",
   "metadata": {}
  },
  {
   "source": [
    "The provided code stub will read in a dictionary containing key/value pairs of name:[marks] for a list of students. \n",
    "\n",
    "Print the average of the marks array for the student name provided, showing 2 places after the decimal."
   ],
   "cell_type": "markdown",
   "metadata": {}
  },
  {
   "source": [
    "sample input\n",
    "\n",
    "a 10 20 30\n",
    "\n",
    "b 40 50 60 \n",
    " \n",
    "c 70 80 90"
   ],
   "cell_type": "markdown",
   "metadata": {}
  },
  {
   "cell_type": "code",
   "execution_count": 69,
   "metadata": {},
   "outputs": [],
   "source": [
    "# Input\n",
    "student_marks = {}\n",
    "n = int(input())\n",
    "for _ in range(n):\n",
    "    name, *line = input().split()\n",
    "    scores = list(map(float, line))\n",
    "    student_marks[name] = scores"
   ]
  },
  {
   "cell_type": "code",
   "execution_count": 70,
   "metadata": {},
   "outputs": [
    {
     "output_type": "execute_result",
     "data": {
      "text/plain": [
       "{'a': [10.0, 20.0, 30.0], 'b': [40.0, 50.0, 60.0], 'c': [70.0, 80.0, 90.0]}"
      ]
     },
     "metadata": {},
     "execution_count": 70
    }
   ],
   "source": [
    "student_marks"
   ]
  },
  {
   "cell_type": "code",
   "execution_count": 78,
   "metadata": {},
   "outputs": [],
   "source": [
    "# the name to calculate an average score\n",
    "query_name = \"b\""
   ]
  },
  {
   "cell_type": "code",
   "execution_count": 76,
   "metadata": {},
   "outputs": [
    {
     "output_type": "stream",
     "name": "stdout",
     "text": [
      "a [10.0, 20.0, 30.0]\nb [40.0, 50.0, 60.0]\nc [70.0, 80.0, 90.0]\n"
     ]
    }
   ],
   "source": [
    "# To print key and value from a dictionary \n",
    "for k in student_marks:\n",
    "    print(k, student_marks[k])"
   ]
  },
  {
   "cell_type": "code",
   "execution_count": 77,
   "metadata": {},
   "outputs": [
    {
     "output_type": "stream",
     "name": "stdout",
     "text": [
      "a\n[10.0, 20.0, 30.0]\nb\n[40.0, 50.0, 60.0]\nc\n[70.0, 80.0, 90.0]\n"
     ]
    }
   ],
   "source": [
    "# To extract key and value from a dictionary \n",
    "for k, v in student_marks.items():\n",
    "    print(k)\n",
    "    print(v)"
   ]
  },
  {
   "cell_type": "code",
   "execution_count": 95,
   "metadata": {},
   "outputs": [
    {
     "output_type": "stream",
     "name": "stdout",
     "text": [
      "[40.0, 50.0, 60.0]\n50.0\n50.00\n"
     ]
    }
   ],
   "source": [
    "# My solution\n",
    "for name, scores in student_marks.items():\n",
    "    if name == query_name:\n",
    "        print(scores)\n",
    "        avg_socre = sum(scores)/len(scores)\n",
    "        print(avg_socre)\n",
    "        print('{:.2f}'.format(avg_socre))"
   ]
  },
  {
   "source": [
    "# Tuple"
   ],
   "cell_type": "markdown",
   "metadata": {}
  },
  {
   "cell_type": "code",
   "execution_count": 115,
   "metadata": {},
   "outputs": [],
   "source": [
    "# Given an integer, n, and n space-separated integers as input\n",
    "n = int(input())\n",
    "integer_list = map(int, input().split())"
   ]
  },
  {
   "cell_type": "code",
   "execution_count": 116,
   "metadata": {},
   "outputs": [
    {
     "output_type": "execute_result",
     "data": {
      "text/plain": [
       "[1, 2, 3, 4]"
      ]
     },
     "metadata": {},
     "execution_count": 116
    }
   ],
   "source": [
    "int_list = [i for i in integer_list]\n",
    "int_list"
   ]
  },
  {
   "cell_type": "code",
   "execution_count": 117,
   "metadata": {},
   "outputs": [
    {
     "output_type": "execute_result",
     "data": {
      "text/plain": [
       "(1, 2, 3, 4)"
      ]
     },
     "metadata": {},
     "execution_count": 117
    }
   ],
   "source": [
    "test_tuple = tuple(int_list)\n",
    "test_tuple"
   ]
  },
  {
   "cell_type": "code",
   "execution_count": 118,
   "metadata": {},
   "outputs": [
    {
     "output_type": "execute_result",
     "data": {
      "text/plain": [
       "590899387183067792"
      ]
     },
     "metadata": {},
     "execution_count": 118
    }
   ],
   "source": [
    "hash(test_tuple)"
   ]
  },
  {
   "source": [
    "# String"
   ],
   "cell_type": "markdown",
   "metadata": {}
  },
  {
   "source": [
    "You are given a string and your task is to swap cases. In other words, convert all lowercase letters to uppercase letters and vice versa."
   ],
   "cell_type": "markdown",
   "metadata": {}
  },
  {
   "cell_type": "code",
   "execution_count": 160,
   "metadata": {},
   "outputs": [],
   "source": [
    "e = 'HackerRank.com presents \"Pythonist 2\".'"
   ]
  },
  {
   "cell_type": "code",
   "execution_count": 161,
   "metadata": {},
   "outputs": [
    {
     "output_type": "execute_result",
     "data": {
      "text/plain": [
       "['HackerRank.com', 'presents', '\"Pythonist', '2\".']"
      ]
     },
     "metadata": {},
     "execution_count": 161
    }
   ],
   "source": [
    "e.split()"
   ]
  },
  {
   "cell_type": "code",
   "execution_count": 121,
   "metadata": {},
   "outputs": [
    {
     "output_type": "execute_result",
     "data": {
      "text/plain": [
       "'HACKERRANK.COM'"
      ]
     },
     "metadata": {},
     "execution_count": 121
    }
   ],
   "source": [
    "e.split()[0].upper()"
   ]
  },
  {
   "cell_type": "code",
   "execution_count": 123,
   "metadata": {},
   "outputs": [
    {
     "output_type": "stream",
     "name": "stdout",
     "text": [
      "abcdefghijklmnopqrstuvwxyzABCDEFGHIJKLMNOPQRSTUVWXYZ\nabcdefghijklmnopqrstuvwxyz\nABCDEFGHIJKLMNOPQRSTUVWXYZ\n"
     ]
    }
   ],
   "source": [
    "import string\n",
    "#アルファベットの大文字小文字の出力\n",
    "print(string.ascii_letters)\n",
    "#アルファベットの小文字のみの出力\n",
    "print(string.ascii_lowercase)\n",
    "#アルファベットの大文字のみの出力\n",
    "print(string.ascii_uppercase)"
   ]
  },
  {
   "cell_type": "code",
   "execution_count": 125,
   "metadata": {},
   "outputs": [],
   "source": [
    "upper_case = []\n",
    "for w in string.ascii_uppercase:\n",
    "    upper_case.append(w)\n"
   ]
  },
  {
   "cell_type": "code",
   "execution_count": 126,
   "metadata": {},
   "outputs": [],
   "source": [
    "lower_case = []\n",
    "for w in string.ascii_lowercase:\n",
    "    lower_case.append(w)"
   ]
  },
  {
   "cell_type": "code",
   "execution_count": 128,
   "metadata": {},
   "outputs": [
    {
     "output_type": "stream",
     "name": "stdout",
     "text": [
      "['A', 'B', 'C', 'D', 'E', 'F', 'G', 'H', 'I', 'J', 'K', 'L', 'M', 'N', 'O', 'P', 'Q', 'R', 'S', 'T', 'U', 'V', 'W', 'X', 'Y', 'Z']\n['a', 'b', 'c', 'd', 'e', 'f', 'g', 'h', 'i', 'j', 'k', 'l', 'm', 'n', 'o', 'p', 'q', 'r', 's', 't', 'u', 'v', 'w', 'x', 'y', 'z']\n"
     ]
    }
   ],
   "source": [
    "print(upper_case)\n",
    "print(lower_case)"
   ]
  },
  {
   "cell_type": "code",
   "execution_count": 138,
   "metadata": {},
   "outputs": [
    {
     "output_type": "stream",
     "name": "stdout",
     "text": [
      "['h', 'A', 'C', 'K', 'E', 'R', 'r', 'A', 'N', 'K', '.', 'C', 'O', 'M', 'P', 'R', 'E', 'S', 'E', 'N', 'T', 'S', '\"', 'p', 'Y', 'T', 'H', 'O', 'N', 'I', 'S', 'T', '2', '\"', '.']\n"
     ]
    }
   ],
   "source": [
    "result = []\n",
    "for word in e.split():\n",
    "    for char in word:\n",
    "        if char in upper_case:\n",
    "            swaped_c = char.lower()\n",
    "            result.append(swaped_c)\n",
    "        elif char in lower_case:\n",
    "            swaped_c = char.upper()\n",
    "            result.append(swaped_c)\n",
    "        else:\n",
    "            result.append(char)\n",
    "print(result)"
   ]
  },
  {
   "cell_type": "code",
   "execution_count": 144,
   "metadata": {},
   "outputs": [
    {
     "output_type": "stream",
     "name": "stdout",
     "text": [
      "hACKERrANK.COM\nPRESENTS\n\"pYTHONIST\n2\".\n"
     ]
    }
   ],
   "source": [
    "for word in e.split():\n",
    "    result = []\n",
    "    for char in word:\n",
    "        if char in upper_case:\n",
    "            swaped_c = char.lower()\n",
    "            result.append(swaped_c)\n",
    "        elif char in lower_case:\n",
    "            swaped_c = char.upper()\n",
    "            result.append(swaped_c)\n",
    "        else:\n",
    "            result.append(char)\n",
    "    joined = \"\".join(result)\n",
    "    print(joined)\n"
   ]
  },
  {
   "cell_type": "code",
   "execution_count": 145,
   "metadata": {},
   "outputs": [
    {
     "output_type": "stream",
     "name": "stdout",
     "text": [
      "['M']\n['S']\n['T']\n['.']\n"
     ]
    }
   ],
   "source": [
    "for word in e.split():\n",
    "    new_word = []\n",
    "    for char in word:\n",
    "        new_char = \"\"\n",
    "        if char in upper_case:\n",
    "            swaped_c = char.lower()\n",
    "            new_char += swaped_c\n",
    "        elif char in lower_case:\n",
    "            swaped_c = char.upper()\n",
    "            new_char += swaped_c\n",
    "        else:\n",
    "            new_char += char\n",
    "    new_word.append(new_char)\n",
    "    print(new_word)"
   ]
  },
  {
   "cell_type": "code",
   "execution_count": 153,
   "metadata": {},
   "outputs": [
    {
     "output_type": "stream",
     "name": "stdout",
     "text": [
      "['h', 'hA', 'hAC', 'hACK', 'hACKE', 'hACKER', 'hACKERr', 'hACKERrA', 'hACKERrAN', 'hACKERrANK', 'hACKERrANK.', 'hACKERrANK.C', 'hACKERrANK.CO', 'hACKERrANK.COM', 'P', 'PR', 'PRE', 'PRES', 'PRESE', 'PRESEN', 'PRESENT', 'PRESENTS', '\"', '\"p', '\"pY', '\"pYT', '\"pYTH', '\"pYTHO', '\"pYTHON', '\"pYTHONI', '\"pYTHONIS', '\"pYTHONIST', '2', '2\"', '2\".']\n"
     ]
    }
   ],
   "source": [
    "new_words = []\n",
    "for word in e.split():\n",
    "    new_char = \"\"\n",
    "    for char in word:\n",
    "        if char in upper_case:\n",
    "            swaped_c = char.lower()\n",
    "            new_char += swaped_c\n",
    "        elif char in lower_case:\n",
    "            swaped_c = char.upper()\n",
    "            new_char += swaped_c\n",
    "        else:\n",
    "            new_char += char\n",
    "        new_words.append(new_char)\n",
    "print(new_words)\n"
   ]
  },
  {
   "cell_type": "code",
   "execution_count": 154,
   "metadata": {},
   "outputs": [
    {
     "output_type": "stream",
     "name": "stdout",
     "text": [
      "['hACKERrANK.COM', 'PRESENTS', '\"pYTHONIST', '2\".']\n"
     ]
    }
   ],
   "source": [
    "new_words = []\n",
    "for word in e.split():\n",
    "    new_char = \"\"\n",
    "    for char in word:\n",
    "        if char in upper_case:\n",
    "            new_char += char.lower() \n",
    "        elif char in lower_case:\n",
    "            new_char += char.upper()\n",
    "        else:\n",
    "            new_char += char\n",
    "    new_words.append(new_char)\n",
    "print(new_words)"
   ]
  },
  {
   "cell_type": "code",
   "execution_count": 162,
   "metadata": {},
   "outputs": [
    {
     "output_type": "execute_result",
     "data": {
      "text/plain": [
       "'hACKERrANK.COM PRESENTS \"pYTHONIST 2\".'"
      ]
     },
     "metadata": {},
     "execution_count": 162
    }
   ],
   "source": [
    "\" \".join(new_words)"
   ]
  },
  {
   "cell_type": "code",
   "execution_count": null,
   "metadata": {},
   "outputs": [],
   "source": [
    "# My solution\n",
    "import string\n",
    "def swap_case(s):\n",
    "    new_words = []\n",
    "    for word in s.split():\n",
    "        new_char = \"\"\n",
    "        for char in word:\n",
    "            if char in string.ascii_uppercase:\n",
    "                new_char += char.lower() \n",
    "            elif char in string.ascii_lowercase:\n",
    "                new_char += char.upper()\n",
    "            else:\n",
    "                new_char += char\n",
    "        new_words.append(new_char)\n",
    "        phrase = \" \".join(new_words)\n",
    "    return phrase\n",
    "\n",
    "if __name__ == '__main__':\n",
    "    s = input()\n",
    "    result = swap_case(s)\n",
    "    print(result)"
   ]
  },
  {
   "cell_type": "code",
   "execution_count": 166,
   "metadata": {},
   "outputs": [
    {
     "output_type": "stream",
     "name": "stdout",
     "text": [
      "hACKERrANK.COM PRESENTS \"pYTHONIST 2\".\n"
     ]
    }
   ],
   "source": [
    "# other solution\n",
    "result = \"\"\n",
    "for letter in e:\n",
    "    if letter == letter.upper():\n",
    "        result += letter.lower()\n",
    "    elif letter == letter.lower():\n",
    "        result += letter.upper()\n",
    "    else:\n",
    "        result += letter\n",
    "print(result)"
   ]
  },
  {
   "source": [
    "# String - immutable"
   ],
   "cell_type": "markdown",
   "metadata": {}
  },
  {
   "source": [
    "Task\n",
    "Read a given string, change the character at a given index and then print the modified string.\n",
    "\n",
    "Function Description\n",
    "\n",
    "mutate_string has the following parameters:\n",
    "\n",
    "* string string: the string to change\n",
    "* int position: the index to insert the character at\n",
    "* string character: the character to insert\n",
    "\n",
    "Returns\n",
    "\n",
    "* string: the altered string"
   ],
   "cell_type": "markdown",
   "metadata": {}
  },
  {
   "cell_type": "code",
   "execution_count": null,
   "metadata": {},
   "outputs": [],
   "source": [
    "def mutate_string(string, position, character):\n",
    "    s_list = list(string)\n",
    "    s_list[position] = character\n",
    "    new_char = \"\".join(s_list)\n",
    "    return new_char\n"
   ]
  },
  {
   "cell_type": "code",
   "execution_count": 168,
   "metadata": {},
   "outputs": [],
   "source": [
    "# parameters for test\n",
    "s = 'abracadabra'\n",
    "position = 5\n",
    "character = 'k'"
   ]
  },
  {
   "cell_type": "code",
   "execution_count": 169,
   "metadata": {},
   "outputs": [],
   "source": [
    "list_s = list(s)"
   ]
  },
  {
   "cell_type": "code",
   "execution_count": 170,
   "metadata": {},
   "outputs": [
    {
     "output_type": "stream",
     "name": "stdout",
     "text": [
      "['a', 'b', 'r', 'a', 'c', 'k', 'd', 'a', 'b', 'r', 'a']\n"
     ]
    }
   ],
   "source": [
    "list_s[position] = character\n",
    "print(list_s)"
   ]
  },
  {
   "cell_type": "code",
   "execution_count": 171,
   "metadata": {},
   "outputs": [
    {
     "output_type": "stream",
     "name": "stdout",
     "text": [
      "abrackdabra\n"
     ]
    }
   ],
   "source": [
    "new_char = \"\".join(list_s)\n",
    "print(new_char)"
   ]
  },
  {
   "source": [
    "# String and for loop"
   ],
   "cell_type": "markdown",
   "metadata": {}
  },
  {
   "source": [
    "In this challenge, the user enters a string and a substring. \n",
    "\n",
    "You have to print the number of times that the substring occurs in the given string. \n",
    "\n",
    "String traversal will take place from left to right, not from right to left.\n",
    "\n",
    "NOTE: String letters are case-sensitive.\n",
    "\n",
    "Input Format\n",
    "\n",
    "The first line of input contains the original string. The next line contains the substring."
   ],
   "cell_type": "markdown",
   "metadata": {}
  },
  {
   "cell_type": "code",
   "execution_count": 173,
   "metadata": {},
   "outputs": [],
   "source": [
    "# test case\n",
    "string = \"ABCDCDC\"\n",
    "sub_str = \"CDC\""
   ]
  },
  {
   "cell_type": "code",
   "execution_count": 176,
   "metadata": {},
   "outputs": [
    {
     "output_type": "stream",
     "name": "stdout",
     "text": [
      "A\nAB\nABC\nABCD\nABCDC\nABCDCD\nABCDCDC\n0\n"
     ]
    }
   ],
   "source": [
    "char = \"\"\n",
    "count = 0\n",
    "for c in string:\n",
    "    char += c\n",
    "    print(char)\n",
    "    if char == sub_str:\n",
    "        count += 1\n",
    "print(count)\n",
    "    "
   ]
  },
  {
   "cell_type": "code",
   "execution_count": 197,
   "metadata": {},
   "outputs": [
    {
     "output_type": "stream",
     "name": "stdout",
     "text": [
      "ABC\nBCD\nCDC\nDCD\nCDC\nDC\nC\n"
     ]
    }
   ],
   "source": [
    "for i in range(len(string)):\n",
    "    last = i+len(sub_str)\n",
    "    print(string[i:last])"
   ]
  },
  {
   "cell_type": "code",
   "execution_count": 198,
   "metadata": {},
   "outputs": [
    {
     "output_type": "stream",
     "name": "stdout",
     "text": [
      "2\n"
     ]
    }
   ],
   "source": [
    "# My solution\n",
    "count = 0\n",
    "for start in range(len(string)):\n",
    "    last = i + len(sub_str)\n",
    "    if string[start:last] == sub_str:\n",
    "        count += 1\n",
    "print(count)"
   ]
  },
  {
   "source": [
    "# String validators"
   ],
   "cell_type": "markdown",
   "metadata": {}
  },
  {
   "source": [
    "Python has built-in string validation methods for basic data. \n",
    "\n",
    "It can check if a string is composed of alphabetical characters, alphanumeric characters, digits, etc."
   ],
   "cell_type": "markdown",
   "metadata": {}
  },
  {
   "cell_type": "code",
   "execution_count": 199,
   "metadata": {},
   "outputs": [],
   "source": [
    "testcase = \"abc123!\""
   ]
  },
  {
   "cell_type": "code",
   "execution_count": 200,
   "metadata": {},
   "outputs": [
    {
     "output_type": "execute_result",
     "data": {
      "text/plain": [
       "False"
      ]
     },
     "metadata": {},
     "execution_count": 200
    }
   ],
   "source": [
    "# checks if all the characters of a string are alphanumeric (a-z, A-Z and 0-9).\n",
    "testcase.isalnum()"
   ]
  },
  {
   "cell_type": "code",
   "execution_count": 202,
   "metadata": {},
   "outputs": [
    {
     "output_type": "execute_result",
     "data": {
      "text/plain": [
       "False"
      ]
     },
     "metadata": {},
     "execution_count": 202
    }
   ],
   "source": [
    "# checks if all the characters of a string are alphabetical (a-z and A-Z).\n",
    "testcase.isalpha()"
   ]
  },
  {
   "cell_type": "code",
   "execution_count": 203,
   "metadata": {},
   "outputs": [
    {
     "output_type": "execute_result",
     "data": {
      "text/plain": [
       "False"
      ]
     },
     "metadata": {},
     "execution_count": 203
    }
   ],
   "source": [
    "# checks if all the characters of a string are digits (0-9).\n",
    "testcase.isdigit()"
   ]
  },
  {
   "cell_type": "code",
   "execution_count": 204,
   "metadata": {},
   "outputs": [
    {
     "output_type": "execute_result",
     "data": {
      "text/plain": [
       "True"
      ]
     },
     "metadata": {},
     "execution_count": 204
    }
   ],
   "source": [
    "#  checks if all the characters of a string are lowercase characters (a-z).\n",
    "testcase.islower()"
   ]
  },
  {
   "cell_type": "code",
   "execution_count": 205,
   "metadata": {},
   "outputs": [
    {
     "output_type": "execute_result",
     "data": {
      "text/plain": [
       "False"
      ]
     },
     "metadata": {},
     "execution_count": 205
    }
   ],
   "source": [
    "# checks if all the characters of a string are uppercase characters (A-Z).\n",
    "testcase.isupper()"
   ]
  },
  {
   "source": [
    "In the first line, print True if  has any alphanumeric characters. Otherwise, print False.\n",
    "\n",
    "In the second line, print True if  has any alphabetical characters. Otherwise, print False.\n",
    "\n",
    "In the third line, print True if  has any digits. Otherwise, print False.\n",
    "\n",
    "In the fourth line, print True if  has any lowercase characters. Otherwise, print False.\n",
    "\n",
    "In the fifth line, print True if  has any uppercase characters. Otherwise, print False."
   ],
   "cell_type": "markdown",
   "metadata": {}
  },
  {
   "cell_type": "code",
   "execution_count": 208,
   "metadata": {},
   "outputs": [
    {
     "output_type": "execute_result",
     "data": {
      "text/plain": [
       "[False, False, False, True, True, True, False]"
      ]
     },
     "metadata": {},
     "execution_count": 208
    }
   ],
   "source": [
    "[i.isdigit() for i in testcase]"
   ]
  },
  {
   "cell_type": "code",
   "execution_count": 207,
   "metadata": {},
   "outputs": [
    {
     "output_type": "execute_result",
     "data": {
      "text/plain": [
       "3"
      ]
     },
     "metadata": {},
     "execution_count": 207
    }
   ],
   "source": [
    "sum([i.isdigit() for i in testcase])"
   ]
  },
  {
   "cell_type": "code",
   "execution_count": 209,
   "metadata": {},
   "outputs": [
    {
     "output_type": "stream",
     "name": "stdout",
     "text": [
      "True\n"
     ]
    }
   ],
   "source": [
    "if sum([i.isdigit() for i in testcase]) >= 1:\n",
    "    print(True)\n",
    "else:\n",
    "    print(False)"
   ]
  },
  {
   "source": [
    "Pythonでリストやタプルなどのイテラブルオブジェクトの要素を扱うとき、\n",
    "\n",
    "すべてTrue（真）か、すべてFalse（偽）かを判定するには組み込み関数all()を使う。\n",
    "\n",
    "いずれか一つでもTrueか、あるいは、False（偽）かを判定するには組み込み関数any()を使う。"
   ],
   "cell_type": "markdown",
   "metadata": {}
  },
  {
   "cell_type": "code",
   "execution_count": 210,
   "metadata": {},
   "outputs": [
    {
     "output_type": "execute_result",
     "data": {
      "text/plain": [
       "True"
      ]
     },
     "metadata": {},
     "execution_count": 210
    }
   ],
   "source": [
    "# Example\n",
    "any(i.isdigit() for i in testcase)"
   ]
  },
  {
   "cell_type": "code",
   "execution_count": null,
   "metadata": {},
   "outputs": [],
   "source": [
    "# My solution\n",
    "if __name__ == '__main__':\n",
    "    s = input()\n",
    "    \n",
    "    if sum([i.isalnum() for i in s]) >= 1:\n",
    "        print(True)\n",
    "    else:\n",
    "        print(False)\n",
    "        \n",
    "    if sum([i.isalpha() for i in s]) >= 1:\n",
    "        print(True)\n",
    "    else:\n",
    "        print(False)\n",
    "    \n",
    "    if sum([i.isdigit() for i in s]) >= 1:\n",
    "        print(True)\n",
    "    else:\n",
    "        print(False)\n",
    "        \n",
    "    if sum([i.islower() for i in s]) >= 1:\n",
    "        print(True)\n",
    "    else:\n",
    "        print(False)\n",
    "        \n",
    "    if sum([i.isupper() for i in s]) >= 1:\n",
    "        print(True)\n",
    "    else:\n",
    "        print(False)"
   ]
  },
  {
   "cell_type": "code",
   "execution_count": null,
   "metadata": {},
   "outputs": [],
   "source": [
    "# solution using any()\n",
    "if __name__ == '__main__':\n",
    "    s = input()\n",
    "    print(any(c.isalnum() for c in s))\n",
    "    print(any(c.isalpha() for c in s))\n",
    "    print(any(c.isdigit() for c in s))\n",
    "    print(any(c.islower() for c in s))\n",
    "    print(any(c.isupper() for c in s))"
   ]
  },
  {
   "source": [
    "# Text Wrap"
   ],
   "cell_type": "markdown",
   "metadata": {}
  },
  {
   "source": [
    "You are given a string  and width .\n",
    "\n",
    "Your task is to wrap the string into a paragraph of width .\n",
    "\n",
    "Function Description\n",
    "\n",
    "Complete the wrap function in the editor below.\n",
    "\n",
    "wrap has the following parameters:\n",
    "\n",
    "string string: a long string\n",
    "int max_width: the width to wrap to\n",
    "Returns\n",
    "\n",
    "string: a single string with newline characters ('\\n') where the breaks should be"
   ],
   "cell_type": "markdown",
   "metadata": {}
  },
  {
   "cell_type": "code",
   "execution_count": 1,
   "metadata": {},
   "outputs": [],
   "source": [
    "import textwrap"
   ]
  },
  {
   "cell_type": "code",
   "execution_count": null,
   "metadata": {},
   "outputs": [],
   "source": [
    "def wrap(string, max_width):\n",
    "    return"
   ]
  },
  {
   "cell_type": "code",
   "execution_count": 6,
   "metadata": {},
   "outputs": [],
   "source": [
    "# sample input \n",
    "string = \"ABCDEFGHIJKLIMNOQRSTUVWXYZ\"\n",
    "max_width = 4"
   ]
  },
  {
   "cell_type": "code",
   "execution_count": 5,
   "metadata": {},
   "outputs": [
    {
     "output_type": "stream",
     "name": "stdout",
     "text": [
      "AAAAA\nBBBBB\nCCCCC\nDDDDD\nEEEEE\nFFFFF\nGGGGG\nHHHHH\nIIIII\nJJJJJ\nKKKKK\nLLLLL\nIIIII\nMMMMM\nNNNNN\nOOOOO\nQQQQQ\nRRRRR\nSSSSS\nTTTTT\nUUUUU\nVVVVV\nWWWWW\nXXXXX\nYYYYY\nZZZZZ\n"
     ]
    }
   ],
   "source": [
    "for char in string:\n",
    "    new_c = \"\"\n",
    "    while len(new_c) <= max_width:\n",
    "        new_c += char\n",
    "    print(new_c)"
   ]
  },
  {
   "cell_type": "code",
   "execution_count": 7,
   "metadata": {},
   "outputs": [
    {
     "output_type": "execute_result",
     "data": {
      "text/plain": [
       "'ABCDEFGHIJKLIMNOQRSTUVWXYZ'"
      ]
     },
     "metadata": {},
     "execution_count": 7
    }
   ],
   "source": [
    "string"
   ]
  },
  {
   "cell_type": "code",
   "execution_count": 10,
   "metadata": {},
   "outputs": [
    {
     "output_type": "stream",
     "name": "stdout",
     "text": [
      "['ABCD', 'FGHI', 'KLIM', 'OQRS', 'UVWX']\n"
     ]
    }
   ],
   "source": [
    "word = []\n",
    "new_c = \"\"\n",
    "for c in string:\n",
    "    if len(new_c) < max_width:\n",
    "        new_c += c\n",
    "    else:\n",
    "        word.append(new_c)\n",
    "        new_c = \"\"\n",
    "print(word)"
   ]
  },
  {
   "cell_type": "code",
   "execution_count": 15,
   "metadata": {},
   "outputs": [
    {
     "output_type": "execute_result",
     "data": {
      "text/plain": [
       "'ABCD'"
      ]
     },
     "metadata": {},
     "execution_count": 15
    }
   ],
   "source": [
    "string[0:4]"
   ]
  },
  {
   "cell_type": "code",
   "execution_count": 17,
   "metadata": {},
   "outputs": [
    {
     "output_type": "stream",
     "name": "stdout",
     "text": [
      "ABCD\nBCDE\nCDEF\nDEFG\nEFGH\nFGHI\nGHIJ\nHIJK\nIJKL\nJKLI\nKLIM\nLIMN\nIMNO\nMNOQ\nNOQR\nOQRS\nQRST\nRSTU\nSTUV\nTUVW\nUVWX\nVWXY\nWXYZ\nXYZ\nYZ\nZ\n"
     ]
    }
   ],
   "source": [
    "for i in range(len(string)):\n",
    "    print(string[i:i+max_width])\n"
   ]
  },
  {
   "cell_type": "code",
   "execution_count": 8,
   "metadata": {},
   "outputs": [
    {
     "output_type": "stream",
     "name": "stdout",
     "text": [
      "ABCD\nEFGH\nIJKL\nIMNO\nQRST\nUVWX\nYZ\n"
     ]
    }
   ],
   "source": [
    "# My solution\n",
    "word = []\n",
    "new_c = \"\"\n",
    "for c in string:\n",
    "    if len(new_c) == max_width:\n",
    "        word.append(new_c)\n",
    "        new_c = \"\" + c\n",
    "    elif len(new_c) < max_width:\n",
    "        new_c += c        \n",
    "word.append(new_c)\n",
    "\n",
    "for char in word:\n",
    "    print(char)"
   ]
  },
  {
   "cell_type": "code",
   "execution_count": 26,
   "metadata": {},
   "outputs": [
    {
     "output_type": "stream",
     "name": "stdout",
     "text": [
      "ABCD\nEFGH\nIJKL\nIMNO\nQRST\nUVWX\nYZ\n"
     ]
    }
   ],
   "source": [
    "for char in word:\n",
    "    print(char)"
   ]
  },
  {
   "cell_type": "code",
   "execution_count": 21,
   "metadata": {},
   "outputs": [],
   "source": [
    "tex = \"\\n\".join(word)"
   ]
  },
  {
   "cell_type": "code",
   "execution_count": 22,
   "metadata": {},
   "outputs": [
    {
     "output_type": "stream",
     "name": "stdout",
     "text": [
      "ABCD\nEFGH\nIJKL\nIMNO\nQRST\nUVWX\nYZ\n"
     ]
    }
   ],
   "source": [
    "print(tex)"
   ]
  },
  {
   "cell_type": "code",
   "execution_count": 23,
   "metadata": {},
   "outputs": [],
   "source": [
    "import textwrap"
   ]
  },
  {
   "cell_type": "code",
   "execution_count": 24,
   "metadata": {},
   "outputs": [
    {
     "output_type": "stream",
     "name": "stdout",
     "text": [
      "['ABCD', 'EFGH', 'IJKL', 'IMNO', 'QRST', 'UVWX', 'YZ']\n"
     ]
    }
   ],
   "source": [
    "# the power of module\n",
    "s_wrap_list = textwrap.wrap(string, width=max_width)\n",
    "print(s_wrap_list)"
   ]
  },
  {
   "source": [
    "# Writing function and sys module"
   ],
   "cell_type": "markdown",
   "metadata": {}
  },
  {
   "cell_type": "code",
   "execution_count": 25,
   "metadata": {},
   "outputs": [],
   "source": [
    "import sys\n",
    "def py2_or_py3():\n",
    "    major = sys.version_info.major\n",
    "    if major == 2:\n",
    "        return 'Python2'\n",
    "    elif major == 3:\n",
    "        return 'Python3'\n",
    "    else:\n",
    "        return 'Neither'"
   ]
  },
  {
   "cell_type": "code",
   "execution_count": 26,
   "metadata": {},
   "outputs": [
    {
     "output_type": "execute_result",
     "data": {
      "text/plain": [
       "'Python3'"
      ]
     },
     "metadata": {},
     "execution_count": 26
    }
   ],
   "source": [
    "py2_or_py3()"
   ]
  },
  {
   "source": [
    "# Simple if syntax"
   ],
   "cell_type": "markdown",
   "metadata": {}
  },
  {
   "source": [
    "Listに値が格納されているか判定する関数"
   ],
   "cell_type": "markdown",
   "metadata": {}
  },
  {
   "cell_type": "code",
   "execution_count": 27,
   "metadata": {},
   "outputs": [],
   "source": [
    "def confirm_list(an_list):\n",
    "    if len(an_list) > 0 :\n",
    "        return an_list[0]\n",
    "    else:\n",
    "        None"
   ]
  },
  {
   "cell_type": "code",
   "execution_count": 28,
   "metadata": {},
   "outputs": [
    {
     "output_type": "execute_result",
     "data": {
      "text/plain": [
       "'test'"
      ]
     },
     "metadata": {},
     "execution_count": 28
    }
   ],
   "source": [
    "confirm_list([\"test\"])"
   ]
  },
  {
   "cell_type": "code",
   "execution_count": 29,
   "metadata": {},
   "outputs": [
    {
     "output_type": "execute_result",
     "data": {
      "text/plain": [
       "False"
      ]
     },
     "metadata": {},
     "execution_count": 29
    }
   ],
   "source": [
    "bool([])"
   ]
  },
  {
   "source": [
    "空のコンテナオブジェクト（ここでは空のリスト）は、Falseになる仕様を利用すると"
   ],
   "cell_type": "markdown",
   "metadata": {}
  },
  {
   "cell_type": "code",
   "execution_count": 30,
   "metadata": {},
   "outputs": [],
   "source": [
    "def mod_confirm_list(an_list):\n",
    "    if an_list: # 空のオブジェクトは偽になる\n",
    "        return an_list[0]\n",
    "    else:\n",
    "        return None"
   ]
  },
  {
   "source": [
    "# String Formating"
   ],
   "cell_type": "markdown",
   "metadata": {}
  },
  {
   "source": [
    "Given an integer,n, print the following values for each integer i from 1 to n:\n",
    "\n",
    "* Decimal\n",
    "* Octal\n",
    "* Hexadecimal (capitalized)\n",
    "* Binary\n",
    "\n",
    "### Function Description\n",
    "\n",
    "Complete the print_formatted function in the editor below.\n",
    "\n",
    "print_formatted has the following parameters:\n",
    "\n",
    "int number: the maximum value to print"
   ],
   "cell_type": "markdown",
   "metadata": {}
  },
  {
   "cell_type": "code",
   "execution_count": 1,
   "metadata": {},
   "outputs": [],
   "source": [
    "test_case = 17"
   ]
  },
  {
   "cell_type": "code",
   "execution_count": 4,
   "metadata": {},
   "outputs": [
    {
     "output_type": "stream",
     "name": "stdout",
     "text": [
      "0o21\n0x11\n0b10001\n"
     ]
    }
   ],
   "source": [
    "# Octal\n",
    "print(oct(test_case))\n",
    "\n",
    "# Hexa\n",
    "print(hex(test_case))\n",
    "\n",
    "#Binary\n",
    "print(bin(test_case))"
   ]
  },
  {
   "cell_type": "code",
   "execution_count": 5,
   "metadata": {},
   "outputs": [
    {
     "output_type": "stream",
     "name": "stdout",
     "text": [
      "21\n"
     ]
    }
   ],
   "source": [
    "# delete 0o, 0x, 0b\n",
    "print(oct(test_case)[2:])"
   ]
  },
  {
   "cell_type": "code",
   "execution_count": 6,
   "metadata": {},
   "outputs": [
    {
     "output_type": "execute_result",
     "data": {
      "text/plain": [
       "'21'"
      ]
     },
     "metadata": {},
     "execution_count": 6
    }
   ],
   "source": [
    "# usint format()\n",
    "format(test_case, \"o\")"
   ]
  },
  {
   "cell_type": "code",
   "execution_count": 7,
   "metadata": {},
   "outputs": [
    {
     "output_type": "execute_result",
     "data": {
      "text/plain": [
       "'21'"
      ]
     },
     "metadata": {},
     "execution_count": 7
    }
   ],
   "source": [
    "# using f-string\n",
    "f\"{test_case:o}\""
   ]
  },
  {
   "cell_type": "code",
   "execution_count": 24,
   "metadata": {},
   "outputs": [
    {
     "output_type": "stream",
     "name": "stdout",
     "text": [
      "1 1 1 1         \n2 2 2 10        \n3 3 3 11        \n4 4 4 100       \n5 5 5 101       \n6 6 6 110       \n7 7 7 111       \n8 10 8 1000     \n9 11 9 1001     \n10 12 a 1010    \n11 13 b 1011    \n12 14 c 1100    \n13 15 d 1101    \n14 16 e 1110    \n15 17 f 1111    \n16 20 10 10000  \n17 21 11 10001  \n"
     ]
    }
   ],
   "source": [
    "for i in range(1, test_case+1):\n",
    "    print(f\"{i} {i:o} {i:x} {i:b}\".ljust(16))"
   ]
  },
  {
   "cell_type": "code",
   "execution_count": 29,
   "metadata": {},
   "outputs": [
    {
     "output_type": "stream",
     "name": "stdout",
     "text": [
      "2\n3\n4\n"
     ]
    }
   ],
   "source": [
    "for _ in range(2,5):\n",
    "    print(_)"
   ]
  },
  {
   "source": [
    "int.bit_length()\n",
    "\n",
    "整数を、符号と先頭の 0 は除いて二進法で表すために必要なビットの数を返します:"
   ],
   "cell_type": "markdown",
   "metadata": {}
  },
  {
   "cell_type": "code",
   "execution_count": 25,
   "metadata": {},
   "outputs": [],
   "source": [
    "pading = test_case.bit_length()"
   ]
  },
  {
   "cell_type": "code",
   "execution_count": 26,
   "metadata": {},
   "outputs": [
    {
     "output_type": "stream",
     "name": "stdout",
     "text": [
      "5\n"
     ]
    }
   ],
   "source": [
    "print(pading)"
   ]
  },
  {
   "cell_type": "code",
   "execution_count": 33,
   "metadata": {},
   "outputs": [
    {
     "output_type": "stream",
     "name": "stdout",
     "text": [
      "    1     1     1     1\n    2     2     2    10\n    3     3     3    11\n    4     4     4   100\n    5     5     5   101\n    6     6     6   110\n    7     7     7   111\n    8    10     8  1000\n    9    11     9  1001\n   10    12     a  1010\n   11    13     b  1011\n   12    14     c  1100\n   13    15     d  1101\n   14    16     e  1110\n   15    17     f  1111\n   16    20    10 10000\n   17    21    11 10001\n"
     ]
    }
   ],
   "source": [
    "for i in range(1, test_case+1):\n",
    "    print(f\"{i:{pading}d} {i:{pading}o} {i:{pading}x} {i:{pading}b}\")"
   ]
  },
  {
   "cell_type": "code",
   "execution_count": 35,
   "metadata": {},
   "outputs": [
    {
     "output_type": "stream",
     "name": "stdout",
     "text": [
      "['    1     1     1     1', '    2     2     2    10', '    3     3     3    11', '    4     4     4   100', '    5     5     5   101', '    6     6     6   110', '    7     7     7   111', '    8    10     8  1000', '    9    11     9  1001', '   10    12     A  1010', '   11    13     B  1011', '   12    14     C  1100', '   13    15     D  1101', '   14    16     E  1110', '   15    17     F  1111', '   16    20    10 10000', '   17    21    11 10001']\n"
     ]
    }
   ],
   "source": [
    "str_list = []\n",
    "for i in range(1, test_case+1):\n",
    "    string = f\"{i:{pading}d} {i:{pading}o} {i:{pading}x} {i:{pading}b}\"\n",
    "    str_list.append(string.upper())\n",
    "print(str_list)"
   ]
  },
  {
   "cell_type": "code",
   "execution_count": 36,
   "metadata": {},
   "outputs": [
    {
     "output_type": "stream",
     "name": "stdout",
     "text": [
      "    1     1     1     1\n    2     2     2    10\n    3     3     3    11\n    4     4     4   100\n    5     5     5   101\n    6     6     6   110\n    7     7     7   111\n    8    10     8  1000\n    9    11     9  1001\n   10    12     A  1010\n   11    13     B  1011\n   12    14     C  1100\n   13    15     D  1101\n   14    16     E  1110\n   15    17     F  1111\n   16    20    10 10000\n   17    21    11 10001\n"
     ]
    }
   ],
   "source": [
    "for _ in str_list:\n",
    "    print(_)"
   ]
  },
  {
   "cell_type": "code",
   "execution_count": null,
   "metadata": {},
   "outputs": [],
   "source": [
    "# My answer\n",
    "def print_formatted(number):\n",
    "    # your code goes here\n",
    "    str_list = []\n",
    "    pading = number.bit_length()\n",
    "    for i in range(1, number+1):\n",
    "        string = f\"{i:{pading}d} {i:{pading}o} {i:{pading}x} {i:{pading}b}\"\n",
    "        str_list.append(string.upper())\n",
    "    for _ in str_list:\n",
    "        print(_)\n",
    "\n",
    "if __name__ == '__main__':\n",
    "    n = int(input())\n",
    "    print_formatted(n)"
   ]
  }
 ]
}